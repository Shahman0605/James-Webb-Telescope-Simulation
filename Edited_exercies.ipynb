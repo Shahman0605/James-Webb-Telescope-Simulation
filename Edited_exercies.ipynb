{
  "cells": [
    {
      "cell_type": "markdown",
      "id": "84969979-82fa-4219-95e6-dc762fbe7813",
      "metadata": {
        "id": "84969979-82fa-4219-95e6-dc762fbe7813"
      },
      "source": [
        "## **Mini Project - 1: Parking your space telescope**\n",
        "\n",
        "### Exercise 1"
      ]
    },
    {
      "cell_type": "code",
      "execution_count": null,
      "id": "a089a838-7de6-41a5-8c86-a9772fa3355d",
      "metadata": {
        "id": "a089a838-7de6-41a5-8c86-a9772fa3355d"
      },
      "outputs": [],
      "source": [
        "import numpy as np\n",
        "import matplotlib.pyplot as plt\n",
        "from matplotlib.colors import ListedColormap\n",
        "from scipy import optimize\n",
        "from scipy.optimize import fsolve\n",
        "import time"
      ]
    },
    {
      "cell_type": "markdown",
      "id": "f0517e31-d93f-4abd-8681-89378c41023a",
      "metadata": {
        "id": "f0517e31-d93f-4abd-8681-89378c41023a"
      },
      "source": [
        "This part is extracted from the notebook submitted by group 6.\n",
        "\n",
        "Using Newton law of gravitation and second law of motion,  we can write the net force on the satellite of mass 'm', located at position (x,y) as-\n",
        "\n",
        "$$ m\\vec{a} = \\vec{F_{S}} + \\vec{F_{E}} $$\n",
        "\n",
        "where,\n",
        "\n",
        "$$ \\vec{Fs} = \\text{gravitational force act on satellite by sun} $$\n",
        "\n",
        "$$ \\vec{Fe} = \\text{gravitational force act on satellite by earth} $$\n",
        "\n",
        "![alt text](mini1.png)"
      ]
    },
    {
      "cell_type": "markdown",
      "id": "6e657ab3-647e-47f7-9fec-482642bb10b5",
      "metadata": {
        "id": "6e657ab3-647e-47f7-9fec-482642bb10b5"
      },
      "source": [
        "In the above figure we have taken the origin of coordinate system is at center of mass of earth-sun system. In this way, location of earth is ($ R_{E} $ ,0 ) ,location of sun is ($ -R_{S} $ , 0 ) and location of our satellite is (x , y ).\n",
        "\n",
        "$$ $$\n",
        "\n",
        "Now after resolving the component of net force on satellite along x and y direction, we get,\n",
        "\n",
        "Net Force along x-direction-\n",
        "$$ ma_{x} = -F_{S}\\cos(\\alpha) -F_{E}\\cos(\\beta) $$\n",
        "\n",
        "Net Force along y-direction-\n",
        "$$ ma_{y} = -F_{S}\\sin(\\alpha) -F_{E}\\sin(\\beta) $$\n",
        "\n",
        "where,\n",
        "$$ F_{S} = \\frac{GM_{S}m}{ (y^2 + ( x+R_{S} )^2 )^2} $$\n",
        "\n",
        "$$ F_{E} = \\frac{GM_{E}m}{( y^2 + ( x-R_{E} )^2 )^2} $$\n",
        "\n",
        "$$ \\tan(\\alpha) = \\frac{y}{( x + R_{S} )}$$\n",
        "\n",
        "$$ \\tan(\\beta) = \\frac{y}{( x - R_{E} )}$$\n",
        "\n",
        "$$ $$\n",
        "\n",
        "After putting these into equation (2) and (3), we finally get this,\n",
        "\n",
        "$$ $$\n",
        "\n",
        "$$ a_{x} =-\\frac{GM_{S}( x + R_{S} )}{( y^2 + ( x+R_{S} )^2 )^{3/2}} -\\frac{GM_{E}( x - R_{E} )}{( y^2 + ( x-R_{E} )^2 )^{3/2}} $$\n",
        "\n",
        "\n",
        "$$ a_{y} =-\\frac{GM_{S}y}{( y^2 + ( x+R_{S} )^2 )^{3/2}} -\\frac{GM_{E}y}{( y^2 + ( x-R_{E} )^2 )^{3/2}} $$\n",
        "\n",
        "$$ $$\n",
        "\n",
        "As we know, Lagrange points are locations where our satellite can rotate synchronously with earth, as the earth rotates around Sun. Therefore,\n",
        "$$  $$\n",
        "$$ a_{x} = -\\omega^{2} x $$\n",
        "$$ a_{y} = -\\omega^{2} y $$\n",
        "\n",
        "where,\n",
        "$$ \\omega = \\text{Angular velocity of earth rotating around sun in circular orbit} $$\n",
        "\n",
        "$$ $$\n",
        "\n",
        "Now to find the lagrange points we have to find the solutions of below equations-\n",
        "\n",
        "$$ $$\n",
        "\n",
        "$$ -\\frac{GM_{S}( x + R_{S} )}{( y^2 + ( x+R_{S} )^2 )^{3/2}} -\\frac{GM_{E}( x - R_{E} )}{( y^2 + ( x-R_{E} )^2 )^{3/2}} + \\omega^{2} x = 0 $$\n",
        "\n",
        "$$ $$\n",
        "\n",
        "$$ -\\frac{GM_{S}y}{( y^2 + ( x+R_{S} )^2 )^{3/2}} -\\frac{GM_{E}y}{( y^2 + ( x-R_{E} )^2 )^{3/2}} + \\omega^{2} y = 0 $$\n",
        "\n",
        "Let,\n",
        "$$ f_{1}(x,y) = -\\frac{GM_{S}( x + R_{S} )}{( y^2 + ( x+R_{S} )^2 )^{3/2}} -\\frac{GM_{E}( x - R_{E} )}{( y^2 + ( x-R_{E} )^2 )^{3/2}} + \\omega^{2} x $$\n",
        "\n",
        "$$ $$\n",
        "\n",
        "$$ f_{2}(x,y) = -\\frac{GM_{S}y}{( y^2 + ( x+R_{S} )^2 )^{3/2}} -\\frac{GM_{E}y}{( y^2 + ( x-R_{E} )^2 )^{3/2}} + \\omega^{2} y $$\n",
        "\n",
        "$$ $$\n",
        "\n",
        "Thus we have to solve,\n",
        "\n",
        "$$ f_{1}(x,y) = 0 $$\n",
        "$$ f_{2}(x,y) = 0 $$"
      ]
    },
    {
      "cell_type": "markdown",
      "id": "49a8edf4-c25d-43f4-ab49-ace3037618e4",
      "metadata": {
        "id": "49a8edf4-c25d-43f4-ab49-ace3037618e4"
      },
      "source": [
        "### Exercise 2\n"
      ]
    },
    {
      "cell_type": "code",
      "execution_count": null,
      "id": "2b71df28-b017-4bf5-89b4-6a801d316d61",
      "metadata": {
        "id": "2b71df28-b017-4bf5-89b4-6a801d316d61"
      },
      "outputs": [],
      "source": [
        "M_r = float(1/333000) #M_r = Ratio of mass of sun to mass of earth\n",
        "G = 39.3 # This the value of the gravitational constant G in astronomical units , i.e we have converted length from m to AU, mass from kg to solar mass unit and time from sec to year.\n",
        "R_sun = M_r/(M_r+1)\n",
        "R_earth = 1/(M_r+1)\n",
        "omega_sqr = (G*(1 + M_r))\n",
        "\n",
        "\n",
        "def acc_x(x,y):\n",
        "  a_sun = ((x+R_sun)/(((x+R_sun)**2+y**2)**(1.5)))\n",
        "  a_earth = ((M_r*(x-R_earth))/((((x-R_earth)**2)+y**2)**(1.5)))\n",
        "  a_omega = (omega_sqr*x)\n",
        "  return np.array(-G*a_sun -G*a_earth +a_omega)\n",
        "\n",
        "def acc_y(x,y):\n",
        "    a_sun = (y/(((x+R_sun)**2+y**2)**(1.5)))\n",
        "    a_earth = ((M_r*y)/((((x-R_earth)**2)+y**2)**(1.5)))\n",
        "    a_omega = (omega_sqr*y)\n",
        "    return np.array(-G*a_sun -G*a_earth +a_omega)\n",
        "\n",
        "X,Y = np.meshgrid(np.linspace(0.98,1.02,100),np.linspace(-0.02,0.02,100))\n",
        "\n",
        "a_x = acc_x(X,Y)\n",
        "a_y = acc_y(X,Y)"
      ]
    },
    {
      "cell_type": "code",
      "execution_count": null,
      "id": "eff90256-73ca-49d3-aeaf-d6e5e938d73a",
      "metadata": {
        "id": "eff90256-73ca-49d3-aeaf-d6e5e938d73a",
        "outputId": "22a8167a-490e-401a-d77a-a663e12a0ed5"
      },
      "outputs": [
        {
          "name": "stderr",
          "output_type": "stream",
          "text": [
            "<ipython-input-15-0226d918d71f>:2: MatplotlibDeprecationWarning: shading='flat' when X and Y have the same dimensions as C is deprecated since 3.3.  Either specify the corners of the quadrilaterals with X and Y, or pass shading='auto', 'nearest' or 'gouraud', or set rcParams['pcolor.shading'].  This will become an error two minor releases later.\n",
            "  plt.pcolormesh(X, Y, a_x, cmap='bwr',vmin = -a_x.max()/0.5e3, vmax = a_x.max()/0.5e3) #We have scaled the results by a factor of 3, to normalize the order of magnitude (0.1e3)\n"
          ]
        },
        {
          "data": {
            "image/png": "[encoded data removed]",
            "text/plain": [
              "<Figure size 432x288 with 2 Axes>"
            ]
          },
          "metadata": {
            "needs_background": "light"
          },
          "output_type": "display_data"
        },
        {
          "name": "stderr",
          "output_type": "stream",
          "text": [
            "<ipython-input-15-0226d918d71f>:10: MatplotlibDeprecationWarning: shading='flat' when X and Y have the same dimensions as C is deprecated since 3.3.  Either specify the corners of the quadrilaterals with X and Y, or pass shading='auto', 'nearest' or 'gouraud', or set rcParams['pcolor.shading'].  This will become an error two minor releases later.\n",
            "  plt.pcolormesh(X, Y, a_y, cmap='bwr',vmin = -a_y.max()/0.5e3, vmax = a_y.max()/0.5e3) #We have scaled the results by a factor of 3, to normalize the order of magnitude (0.1e3)\n"
          ]
        },
        {
          "data": {
            "image/png": "[encoded data removed]",
            "text/plain": [
              "<Figure size 432x288 with 2 Axes>"
            ]
          },
          "metadata": {
            "needs_background": "light"
          },
          "output_type": "display_data"
        },
        {
          "name": "stderr",
          "output_type": "stream",
          "text": [
            "<ipython-input-15-0226d918d71f>:20: MatplotlibDeprecationWarning: shading='flat' when X and Y have the same dimensions as C is deprecated since 3.3.  Either specify the corners of the quadrilaterals with X and Y, or pass shading='auto', 'nearest' or 'gouraud', or set rcParams['pcolor.shading'].  This will become an error two minor releases later.\n",
            "  plt.pcolormesh(X, Y, F_mag, cmap='hot', vmin = 0, vmax = F_mag.max()/7.5e2) #A similar logic as above has been applied\n"
          ]
        },
        {
          "data": {
            "image/png": "[encoded data removed]",
            "text/plain": [
              "<Figure size 432x360 with 2 Axes>"
            ]
          },
          "metadata": {
            "needs_background": "light"
          },
          "output_type": "display_data"
        }
      ],
      "source": [
        "plt.title('x-component of accelaration (in Astronomical Units)', fontsize = 8)\n",
        "plt.pcolormesh(X, Y, a_x, cmap='bwr',vmin = -a_x.max()/0.5e3, vmax = a_x.max()/0.5e3) #We have scaled the results by a factor of 3, to normalize the order of magnitude (0.1e3)\n",
        "#the factor of 0.5 was obtained by trial and error as it was found to be the best fit for the values of the colorbar\n",
        "plt.colorbar()\n",
        "plt.xlabel('x (in AU)')\n",
        "plt.ylabel('y (in AU)')\n",
        "plt.show()\n",
        "\n",
        "plt.title('y-component of accelaration (in Astronomical Units)', fontsize = 8)\n",
        "plt.pcolormesh(X, Y, a_y, cmap='bwr',vmin = -a_y.max()/0.5e3, vmax = a_y.max()/0.5e3) #We have scaled the results by a factor of 3, to normalize the order of magnitude (0.1e3)\n",
        "#the factor of 0.5 was obtained by trial and error as it was found to be the best fit for the values of the colorbar\n",
        "plt.colorbar()\n",
        "plt.xlabel('x (in AU)')\n",
        "plt.ylabel('y (in AU)')\n",
        "plt.show()\n",
        "\n",
        "F_mag = np.sqrt(a_x**2 + a_y**2)\n",
        "plt.figure(figsize = (6,5))\n",
        "plt.title('Magnitude of Effective Force (in Astronomical Units)', fontsize = 8)\n",
        "plt.pcolormesh(X, Y, F_mag, cmap='hot', vmin = 0, vmax = F_mag.max()/7.5e2) #A similar logic as above has been applied\n",
        "plt.colorbar()\n",
        "plt.xlabel('x (in AU)')\n",
        "plt.ylabel('y (in AU)')\n",
        "plt.show()"
      ]
    },
    {
      "cell_type": "markdown",
      "id": "54282911-e800-4efa-9b34-626106ce4870",
      "metadata": {
        "id": "54282911-e800-4efa-9b34-626106ce4870"
      },
      "source": [
        "### Exercise 3\n",
        "\n",
        "As shown in the above plot for $y = 0$, net force on the satellite becomes zero at close to $x = 0.99$ and $x = 1.01$. For the third point, let's look at the other side of the center of mass (on negative x axis)."
      ]
    },
    {
      "cell_type": "code",
      "execution_count": null,
      "id": "237d3855-476d-4211-937e-4680e8f4d4ab",
      "metadata": {
        "id": "237d3855-476d-4211-937e-4680e8f4d4ab"
      },
      "outputs": [],
      "source": [
        "XX,YY = np.meshgrid(np.linspace(-1.02,0.02,100),np.linspace(-0.02,0.02,100))\n",
        "\n",
        "a_x_ = acc_x(XX, YY)\n",
        "a_y_ = acc_y(XX, YY)\n",
        "F_mag_ = np.sqrt(a_x_**2 + a_y_**2)"
      ]
    },
    {
      "cell_type": "code",
      "execution_count": null,
      "id": "2f6e22ef-90eb-4a30-bd52-26fb6131adf3",
      "metadata": {
        "id": "2f6e22ef-90eb-4a30-bd52-26fb6131adf3",
        "outputId": "8ca118ed-01c3-4f8f-d36f-97410896e6f6"
      },
      "outputs": [
        {
          "name": "stderr",
          "output_type": "stream",
          "text": [
            "<ipython-input-17-c78aebc4a05a>:2: MatplotlibDeprecationWarning: shading='flat' when X and Y have the same dimensions as C is deprecated since 3.3.  Either specify the corners of the quadrilaterals with X and Y, or pass shading='auto', 'nearest' or 'gouraud', or set rcParams['pcolor.shading'].  This will become an error two minor releases later.\n",
            "  plt.pcolormesh(XX, YY, a_x_, cmap='bwr',vmin = -a_x.max()/0.5e3, vmax = a_x.max()/0.5e3) #We have scaled the results by a factor of 3, to normalize the order of magnitude (0.1e3)\n"
          ]
        },
        {
          "data": {
            "image/png": "[encoded data removed]",
            "text/plain": [
              "<Figure size 432x288 with 2 Axes>"
            ]
          },
          "metadata": {
            "needs_background": "light"
          },
          "output_type": "display_data"
        },
        {
          "name": "stderr",
          "output_type": "stream",
          "text": [
            "<ipython-input-17-c78aebc4a05a>:10: MatplotlibDeprecationWarning: shading='flat' when X and Y have the same dimensions as C is deprecated since 3.3.  Either specify the corners of the quadrilaterals with X and Y, or pass shading='auto', 'nearest' or 'gouraud', or set rcParams['pcolor.shading'].  This will become an error two minor releases later.\n",
            "  plt.pcolormesh(XX, YY, a_y_, cmap='bwr',vmin = -a_y.max()/0.5e3, vmax = a_y.max()/0.5e3) #We have scaled the results by a factor of 3, to normalize the order of magnitude (0.1e3)\n"
          ]
        },
        {
          "data": {
            "image/png": "[encoded data removed]",
            "text/plain": [
              "<Figure size 432x288 with 2 Axes>"
            ]
          },
          "metadata": {
            "needs_background": "light"
          },
          "output_type": "display_data"
        },
        {
          "name": "stderr",
          "output_type": "stream",
          "text": [
            "<ipython-input-17-c78aebc4a05a>:20: MatplotlibDeprecationWarning: shading='flat' when X and Y have the same dimensions as C is deprecated since 3.3.  Either specify the corners of the quadrilaterals with X and Y, or pass shading='auto', 'nearest' or 'gouraud', or set rcParams['pcolor.shading'].  This will become an error two minor releases later.\n",
            "  plt.pcolormesh(XX, YY, F_mag_, cmap='hot', vmin = 0, vmax = F_mag.max()/7.5e2) #A similar logic as above has been applied\n"
          ]
        },
        {
          "data": {
            "image/png": "[encoded data removed]",
            "text/plain": [
              "<Figure size 432x360 with 2 Axes>"
            ]
          },
          "metadata": {
            "needs_background": "light"
          },
          "output_type": "display_data"
        }
      ],
      "source": [
        "plt.title('x-component of accelaration (in Astronomical Units)', fontsize = 8)\n",
        "plt.pcolormesh(XX, YY, a_x_, cmap='bwr',vmin = -a_x.max()/0.5e3, vmax = a_x.max()/0.5e3) #We have scaled the results by a factor of 3, to normalize the order of magnitude (0.1e3)\n",
        "#the factor of 0.5 was obtained by trial and error as it was found to be the best fit for the values of the colorbar\n",
        "plt.colorbar()\n",
        "plt.xlabel('x (in AU)')\n",
        "plt.ylabel('y (in AU)')\n",
        "plt.show()\n",
        "\n",
        "plt.title('y-component of accelaration (in Astronomical Units)', fontsize = 8)\n",
        "plt.pcolormesh(XX, YY, a_y_, cmap='bwr',vmin = -a_y.max()/0.5e3, vmax = a_y.max()/0.5e3) #We have scaled the results by a factor of 3, to normalize the order of magnitude (0.1e3)\n",
        "#the factor of 0.5 was obtained by trial and error as it was found to be the best fit for the values of the colorbar\n",
        "plt.colorbar()\n",
        "plt.xlabel('x (in AU)')\n",
        "plt.ylabel('y (in AU)')\n",
        "plt.show()\n",
        "\n",
        "F_mag = np.sqrt(a_x**2 + a_y**2)\n",
        "plt.figure(figsize = (6,5))\n",
        "plt.title('Magnitude of Effective Force (in Astronomical Units)', fontsize = 8)\n",
        "plt.pcolormesh(XX, YY, F_mag_, cmap='hot', vmin = 0, vmax = F_mag.max()/7.5e2) #A similar logic as above has been applied\n",
        "plt.colorbar()\n",
        "plt.xlabel('x (in AU)')\n",
        "plt.ylabel('y (in AU)')\n",
        "plt.show()"
      ]
    },
    {
      "cell_type": "markdown",
      "id": "191ca795-63a4-48f3-be85-311e7dc4313c",
      "metadata": {
        "id": "191ca795-63a4-48f3-be85-311e7dc4313c"
      },
      "source": [
        "Thus, we see that $x \\sim -1$ is also a point where net force is zero. Therefore, obvious choices for the initial guesses are: $x = -1, 0.99, 1.01$.\n",
        "\n",
        "Substituting $y = 0$ in the equations of $a_x$ and $a_y$, results in $a_y = 0$ and solving the equation for $a_x$ using Newton-Raphson method will give us the required solutions."
      ]
    },
    {
      "cell_type": "code",
      "execution_count": null,
      "id": "91e489c0-294e-4eb1-bc89-b4d1334b1280",
      "metadata": {
        "id": "91e489c0-294e-4eb1-bc89-b4d1334b1280"
      },
      "outputs": [],
      "source": [
        "def f_x(x): # We equate y = 0 and simplify the equation\n",
        "  return (-G*(x+R_sun)/(np.abs(x+R_sun)**3) -G*(M_r*(x-R_earth)/(np.abs(x-R_earth)**3)) +omega_sqr*x)\n",
        "def derivf_x(x): # The derivative function calculated analytically\n",
        "  return ((2*G)/((x+R_sun)**2*np.abs(x+R_sun))+(2*G*M_r)/((x-R_earth)**2*np.abs(x-R_earth))+omega_sqr)\n",
        "\n",
        "def NewtonRaphson(x):\n",
        "  for i in range (0,500):\n",
        "    x = x-(f_x(x)/derivf_x(x))\n",
        "    if np.abs(f_x(x))<1e-4:\n",
        "      break\n",
        "\n",
        "  return(x)"
      ]
    },
    {
      "cell_type": "code",
      "execution_count": null,
      "id": "a05d6cfa-aa3b-4ddb-81fc-f674b497e1c8",
      "metadata": {
        "id": "a05d6cfa-aa3b-4ddb-81fc-f674b497e1c8",
        "outputId": "e3281a0f-bad6-4bf0-c1d6-7d799a691543"
      },
      "outputs": [
        {
          "name": "stdout",
          "output_type": "stream",
          "text": [
            "The value of the Lagrange Point, L1 is given by 0.9900272042196472\n",
            "The value of the Lagrange Point, L2 is given by 1.0100334597495126\n",
            "The value of the Lagrange Point, L3 is given by -1.0000012512459282\n",
            "time taken = 0.0009496212005615234\n"
          ]
        }
      ],
      "source": [
        "guess_roots = [0.99,1.01,-1.0]\n",
        "L = []\n",
        "i=0\n",
        "start = time.time()\n",
        "for guess in guess_roots:\n",
        "  i = i+1\n",
        "  L.append(NewtonRaphson(guess))\n",
        "  print(f\"The value of the Lagrange Point, L\" +str(i),\"is given by {}\" .format(L[-1]))\n",
        "end = time.time()\n",
        "t1 = end - start\n",
        "print(f'time taken = {t1}')"
      ]
    },
    {
      "cell_type": "markdown",
      "id": "d2e9a75f-d077-4ed9-93d8-0090206052aa",
      "metadata": {
        "id": "d2e9a75f-d077-4ed9-93d8-0090206052aa"
      },
      "source": [
        "### Exercise 4"
      ]
    },
    {
      "cell_type": "markdown",
      "id": "4550369a-7721-4456-a55e-2ee683a21470",
      "metadata": {
        "id": "4550369a-7721-4456-a55e-2ee683a21470"
      },
      "source": [
        "To find $L_4$ and $L_5$ , we need to solve for both,\n",
        "$$F_1(x,y)=0$$ and,\n",
        "$$F_2(x,y)=0$$ simultaneously.\n",
        "\n",
        "These are a pair of now linear algebraic equations. We can solve this using the generalized version of Newton's method, given by,\n",
        "$$x_{i+1}=x_{i}-\\frac{f(x_i)}{\\nabla_{\\overrightarrow {x}} f(\\overrightarrow { x})|_{\\overrightarrow{x}=\\overrightarrow {x_i}}}$$\n",
        "$$\\implies Δ\\overrightarrow{x_i}=-\\frac{f(\\overrightarrow x_i)}{\\nabla_{\\overrightarrow {x}} f(\\overrightarrow {x})|_{\\overrightarrow{x}=\\overrightarrow {x_i}}}$$\n",
        "\n",
        "$$\\nabla_{\\overrightarrow {x}} f(\\overrightarrow {x})|_{\\overrightarrow{x}= \\overrightarrow {x_i}}\\rightarrow Jacobian$$\n",
        "\n",
        "\n",
        "\n",
        "$$\\Delta \\overrightarrow {x_i}=-J^{-1}f(\\overrightarrow x_i)$$\n",
        "$$\\implies J^{1}\\Delta \\overrightarrow {x_i}=-f(\\overrightarrow x_i)$$\n",
        "\n",
        "$A\\overrightarrow v = \\overrightarrow b$ which can be solved using Gaussian elimination or similar methods.\n",
        "\n",
        "Where Jacobian,\n",
        "$$J=\\left( \\begin{array}{cc}\n",
        "\\frac{\\partial F_{1}}{\\partial x} & \\frac{\\partial F_{1}}{\\partial y}\\\\\n",
        "\\frac{\\partial F_{2}}{\\partial x} & \\frac{\\partial F_{2}}{\\partial y}\n",
        "\\end{array}\\right) $$\n",
        "and\n",
        "$$f(\\overrightarrow x_i)=\\left(\\begin{array}{c}\n",
        "F_{1}(x,y)\\\\\n",
        "F_{2}(x,y)\n",
        "\\end{array}\\right)$$\n",
        "\n",
        "We start out with a reasonable guess(x,y) using the 'lay of ground' (heat map) in different regions around sun earth system\n",
        "\n",
        "$${L_4}\\rightarrow (0.5,1.0)$$\n",
        "$${L_5}\\rightarrow (0.5,-1.0)$$\n",
        "\n",
        "\n",
        "\n",
        "\n"
      ]
    },
    {
      "cell_type": "code",
      "execution_count": null,
      "id": "fa511b6e-4a10-406b-91c8-ae693bfc9732",
      "metadata": {
        "id": "fa511b6e-4a10-406b-91c8-ae693bfc9732"
      },
      "outputs": [],
      "source": [
        "def R_e(m):#distance of Earth from the origin\n",
        "  return m/(1+m)\n",
        "\n",
        "def R_s(m):#distance of Sun from the origin\n",
        "  return 1/(1+m)\n",
        "\n",
        "def F1(r_vect,m):\n",
        "  r1_vect=r_vect+np.r_[R_s(m),0]\n",
        "  r2_vect=r_vect-np.r_[R_e(m),0]\n",
        "\n",
        "  r1=np.linalg.norm(r1_vect)\n",
        "  r2=np.linalg.norm(r2_vect)\n",
        "\n",
        "  f1=(m/r1**3)*r1_vect[0]+(1/r2**3)*r2_vect[0]-(1+m)*r_vect[0]\n",
        "\n",
        "  return f1\n",
        "\n",
        "def F2(r_vect,m):\n",
        "  r1_vect=r_vect+np.array([R_s(m),0])\n",
        "  r2_vect=r_vect-np.array([R_e(m),0])\n",
        "\n",
        "  r1=np.linalg.norm(r1_vect)\n",
        "  r2=np.linalg.norm(r2_vect)\n",
        "\n",
        "  f2=(m/r1**3)*r_vect[1]+(1/r2**3)*r_vect[1]-(1+m)*r_vect[1]\n",
        "\n",
        "  return f2\n",
        "\n",
        "m=3.33e5"
      ]
    },
    {
      "cell_type": "code",
      "execution_count": null,
      "id": "bb5d4f9a-9c15-4467-83c2-ef481005c041",
      "metadata": {
        "id": "bb5d4f9a-9c15-4467-83c2-ef481005c041",
        "outputId": "575a2cf1-9d6f-440e-ed4d-8a2136185651"
      },
      "outputs": [
        {
          "name": "stdout",
          "output_type": "stream",
          "text": [
            "Lagrange point L4:  [0.499997  0.8660254]\n",
            "Lagrange point L5:  [ 0.499997  -0.8660254]\n",
            "time taken = 0.020014286041259766\n"
          ]
        }
      ],
      "source": [
        "def Jacobian(F,x_vect,args,dx=1e-3):\n",
        "  rows,cols=len(F),len(x_vect)\n",
        "  J=np.zeros((rows,cols))\n",
        "\n",
        "  for idx1 in range(rows):\n",
        "    for idx2 in range(cols):\n",
        "\n",
        "      dx_vect=np.zeros(cols)\n",
        "      dx_vect[idx2]+=dx/2\n",
        "\n",
        "      dfdx=(F[idx1](x_vect+dx_vect,*args)-\n",
        "            F[idx1](x_vect-dx_vect,*args))/dx\n",
        "\n",
        "      J[idx1,idx2]=dfdx\n",
        "\n",
        "  return J\n",
        "\n",
        "def fn_vect(F,x_vect,args):\n",
        "  n=len(F)\n",
        "  f_vect=np.zeros(n)\n",
        "\n",
        "  for idx in range(n):\n",
        "    f_vect[idx]=F[idx](x_vect,*args)\n",
        "\n",
        "  return f_vect\n",
        "\n",
        "def newton_Rhapson_gen(F,x_vect,max_iter=500,tol=1e-8,args=()):\n",
        "  iter=0\n",
        "\n",
        "  while iter<max_iter:\n",
        "    J=Jacobian(F,x_vect,args)\n",
        "    f_vect=fn_vect(F,x_vect,args)\n",
        "\n",
        "    delta_x_vect=np.linalg.solve(-J,f_vect)\n",
        "\n",
        "    x_vect+=delta_x_vect\n",
        "    iter+=1\n",
        "\n",
        "    if np.linalg.norm(delta_x_vect)<tol:\n",
        "      break\n",
        "\n",
        "  return x_vect,iter\n",
        "\n",
        "m=3.33e5\n",
        "F=[F1,F2]\n",
        "x4_0=np.r_[0.5,1.0]\n",
        "x5_0=np.r_[0.5,-1.0]\n",
        "\n",
        "start = time.time()\n",
        "L4,_=newton_Rhapson_gen(F,x4_0,args=(m,))\n",
        "L5,_=newton_Rhapson_gen(F,x5_0,args=(m,))\n",
        "\n",
        "print(\"Lagrange point L4: \", L4)\n",
        "print(\"Lagrange point L5: \", L5)\n",
        "\n",
        "end = time.time()\n",
        "\n",
        "t2 = end - start\n",
        "print(f'time taken = {t2}')"
      ]
    },
    {
      "cell_type": "markdown",
      "id": "d94112b9-cb79-4054-a148-a0e34672c35b",
      "metadata": {
        "id": "d94112b9-cb79-4054-a148-a0e34672c35b"
      },
      "source": [
        "Plotting all the Lagrange points:"
      ]
    },
    {
      "cell_type": "code",
      "execution_count": null,
      "id": "e65cb012-ebd9-4cf8-b458-a5d702082645",
      "metadata": {
        "id": "e65cb012-ebd9-4cf8-b458-a5d702082645",
        "outputId": "8a914f2c-6608-40e6-c142-d314024004fc"
      },
      "outputs": [
        {
          "data": {
            "text/plain": [
              "<matplotlib.legend.Legend at 0x7f0e7abb62e0>"
            ]
          },
          "execution_count": 22,
          "metadata": {},
          "output_type": "execute_result"
        },
        {
          "data": {
            "image/png": "[encoded data removed]",
            "text/plain": [
              "<Figure size 720x504 with 1 Axes>"
            ]
          },
          "metadata": {
            "needs_background": "light"
          },
          "output_type": "display_data"
        }
      ],
      "source": [
        "plt.figure(figsize = (10, 7))\n",
        "plt.title('Location of Lagrange points with respect to the center of mass')\n",
        "plt.scatter(L[0], 0, label= 'L1')\n",
        "plt.scatter(L[1], 0, label= 'L2')\n",
        "plt.scatter(L[2], 0, label= 'L3')\n",
        "plt.scatter(L4[0], L4[1], label= 'L4')\n",
        "plt.scatter(L5[0], L5[1], label= 'L5')\n",
        "\n",
        "plt.scatter(0, 0, label='COM')\n",
        "plt.xlabel('x (in AU)')\n",
        "plt.ylabel('y (in AU)')\n",
        "plt.legend()"
      ]
    },
    {
      "cell_type": "markdown",
      "id": "4e524822-fe78-4c5e-a11c-3100a6809d77",
      "metadata": {
        "id": "4e524822-fe78-4c5e-a11c-3100a6809d77"
      },
      "source": [
        "### Exercise 5\n"
      ]
    },
    {
      "cell_type": "code",
      "execution_count": null,
      "id": "3fc838b2-ef57-46ee-b646-d7e46e7a726f",
      "metadata": {
        "id": "3fc838b2-ef57-46ee-b646-d7e46e7a726f",
        "outputId": "c85fc39e-fb14-4486-eadc-9b51c69e368f"
      },
      "outputs": [
        {
          "name": "stdout",
          "output_type": "stream",
          "text": [
            "The co-ordinates of the Lagrange Points obtained using in-built functions are:\n",
            "L1 (in A.U.) = ( 0.9900271310263177 , 0.0 )\n",
            "L2 (in A.U.) = ( 1.0100335730336245 , 0.0 )\n",
            "L3 (in A.U.) = ( -1.0000012512474938 , 0.0 )\n",
            "L4 (in A.U.) = ( 0.47093972545192264 , 0.8821637330878546 )\n",
            "L5 (in A.U.) = ( 0.4709397279009294 , -0.8821637317804596 )\n",
            "Total time taken using package = 0.022919178009033203\n",
            "Total time taken using Newton method = 0.02096390724182129\n"
          ]
        }
      ],
      "source": [
        "# Finding the Lagrange Points using in-built library functions under scipy\n",
        "import time\n",
        "start = time.time()\n",
        "from scipy.optimize import fsolve\n",
        "def function(a):\n",
        "  return [acc_x(a[0],a[1]),acc_y(a[0],a[1])]\n",
        "root_L1 = fsolve(function,[0.99,0])\n",
        "root_L2 = fsolve(function,[1.01,0])\n",
        "root_L3 = fsolve(function,[-1.0,0])\n",
        "root_L4 = fsolve(function,[0.5,1.0])\n",
        "root_L5 = fsolve(function,[0.5,-1.0])\n",
        "print('The co-ordinates of the Lagrange Points obtained using in-built functions are:')\n",
        "print('L1 (in A.U.) = (',root_L1[0],',',root_L1[1],')')\n",
        "print('L2 (in A.U.) = (',root_L2[0],',',root_L2[1],')')\n",
        "print('L3 (in A.U.) = (',root_L3[0],',',root_L3[1],')')\n",
        "print('L4 (in A.U.) = (',root_L4[0],',',root_L4[1],')')\n",
        "print('L5 (in A.U.) = (',root_L5[0],',',root_L5[1],')')\n",
        "\n",
        "end = time.time()\n",
        "print(f'Total time taken using package = {end - start}')\n",
        "print(f'Total time taken using Newton method = {t1 + t2}')\n",
        "# The answers obtained are less precise than\n",
        "# those obtained using Newton's method (both usual and general)"
      ]
    },
    {
      "cell_type": "markdown",
      "id": "b78aaeda-b6b8-4532-8e3c-583001ea38ab",
      "metadata": {
        "id": "b78aaeda-b6b8-4532-8e3c-583001ea38ab"
      },
      "source": [
        "### Exercise 6\n"
      ]
    },
    {
      "cell_type": "code",
      "execution_count": null,
      "id": "6d61dc13-a9d3-49f9-a61d-d46899c009cb",
      "metadata": {
        "id": "6d61dc13-a9d3-49f9-a61d-d46899c009cb"
      },
      "outputs": [],
      "source": [
        "def jacobian(xy):      # Creating the Jacobian matrix of the system of equations\n",
        "\n",
        "    x, y = xy\n",
        "\n",
        "    return [[-1.0*(2.99999099101804 - 3.0*x)*(1.0*x - 0.999996997006015)/(y**2 + (x - 0.999996997006015)**2)**2.5 - 1.0*(-3.0*x - 9.00898195500914e-6)*(333000.0*x + 0.999996997006015)/(y**2 + (x + 3.00299398500305e-6)**2)**2.5 - 1.0/(y**2 + (x - 0.999996997006015)**2)**1.5 - 333000.0/(y**2 + (x + 3.00299398500305e-6)**2)**1.5 + 333001.0\n",
        "             , 3.0*y*(1.0*x - 0.999996997006015)/(y**2 + (x - 0.999996997006015)**2)**2.5 + 3.0*y*(333000.0*x + 0.999996997006015)/(y**2 + (x + 3.00299398500305e-6)**2)**2.5],\n",
        "            [-1.0*y*(2.99999099101804 - 3.0*x)/(y**2 + (x - 0.999996997006015)**2)**2.5 - 333000.0*y*(-3.0*x - 9.00898195500914e-6)/(y**2 + (x + 3.00299398500305e-6)**2)**2.5\n",
        "             , 3.0*y**2/(y**2 + (x - 0.999996997006015)**2)**2.5 + 999000.0*y**2/(y**2 + (x + 3.00299398500305e-6)**2)**2.5 - 1.0/(y**2 + (x - 0.999996997006015)**2)**1.5 - 333000.0/(y**2 + (x + 3.00299398500305e-6)**2)**1.5 + 333001.0]]\n"
      ]
    },
    {
      "cell_type": "code",
      "execution_count": null,
      "id": "e67ababf-3af3-46e5-b52f-4f7178c01612",
      "metadata": {
        "id": "e67ababf-3af3-46e5-b52f-4f7178c01612",
        "outputId": "08a3aea8-d563-4688-9f17-ce6cda1dc2fa"
      },
      "outputs": [
        {
          "name": "stdout",
          "output_type": "stream",
          "text": [
            "L1 point is unstable\n",
            "L2 point is unstable\n",
            "L3 point is unstable\n"
          ]
        }
      ],
      "source": [
        "# Checking stability of Lagrange Points\n",
        "\n",
        "for i in range(1,4):\n",
        "\n",
        "  validity = 0    # 0 = stable L point , 5 = unstable L point\n",
        "\n",
        "  if i == 1:\n",
        "    L = root_L1\n",
        "  elif i == 2:\n",
        "    L = root_L2\n",
        "  elif i == 3:\n",
        "    L = root_L3\n",
        "\n",
        "\n",
        "  for q in range (0,2):\n",
        "    X = L[0]\n",
        "    Y = L[1]\n",
        "\n",
        "    dX = jacobian([X, Y])\n",
        "\n",
        "  w, v = np.linalg.eig(dX)\n",
        "\n",
        "  Eigen_value_1 = (w[0])\n",
        "  Eigen_value_2 = (w[1])\n",
        "  # print(Eigen_value_1)\n",
        "  # print(Eigen_value_2)\n",
        "\n",
        "  if Eigen_value_1 > 0 or Eigen_value_1 > 0 :\n",
        "    validity = 5  # Validity changes to 5 if even one of the eigenvalues is positive\n",
        "\n",
        "\n",
        "  if validity == 5:\n",
        "    print(f\"L{i} point is unstable\")\n",
        "  else:\n",
        "    print(f\"L{i} point is stable\")\n",
        "\n",
        ""
      ]
    },
    {
      "cell_type": "markdown",
      "id": "51c19eb0-b0fe-45c1-b0c2-c60afcb94d69",
      "metadata": {
        "id": "51c19eb0-b0fe-45c1-b0c2-c60afcb94d69"
      },
      "source": [
        "Therefore, L2 is an unstable equilibrium point. Hence after specific time periods, it will move away from its parked position and we would need to use fuel to make the necessary course corrections.\n",
        "\n",
        "The JWST was designed to carry enough fuel for 10 years, but the precision of the Launch and the first mid-course correction was very efficient. It saved enough fuel to extend its life span by about 10 years, so Scientists will be able to use it services for about 20 years.\n",
        "\n",
        "When the ratio of the mass of the two bodies ( here the Sun and Earth ) is greater than 25, the L4 and L5 become stable equilibrium points. Thus, these two stable points have a tendency to pull objects towards them and the objects orbit these points. Hence, it is common to see natural objects orbiting L4 and L5 points.\n",
        "\n",
        "The Sun–Earth L4 and L5 points contain interplanetary dust and at least two asteroids, namely, 2010 TK7 and 2020 XL5.\n",
        "\n",
        "The Earth–Moon L4 and L5 points contain concentrations of interplanetary dust, known as Kordylewski clouds.\n"
      ]
    },
    {
      "cell_type": "code",
      "execution_count": null,
      "id": "acc9b0c1-59e9-4311-9d67-54ad3c8bca02",
      "metadata": {
        "id": "acc9b0c1-59e9-4311-9d67-54ad3c8bca02"
      },
      "outputs": [],
      "source": []
    }
  ],
  "metadata": {
    "kernelspec": {
      "display_name": "ML",
      "language": "python",
      "name": "ml"
    },
    "language_info": {
      "codemirror_mode": {
        "name": "ipython",
        "version": 3
      },
      "file_extension": ".py",
      "mimetype": "text/x-python",
      "name": "python",
      "nbconvert_exporter": "python",
      "pygments_lexer": "ipython3",
      "version": "3.8.8"
    },
    "colab": {
      "provenance": []
    }
  },
  "nbformat": 4,
  "nbformat_minor": 5
}